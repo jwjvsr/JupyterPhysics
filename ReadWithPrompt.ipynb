{
 "cells": [
  {
   "cell_type": "markdown",
   "metadata": {},
   "source": [
    "# Read data from file via prompt "
   ]
  },
  {
   "cell_type": "markdown",
   "metadata": {},
   "source": [
    "##### Initialisation"
   ]
  },
  {
   "cell_type": "code",
   "execution_count": 1,
   "metadata": {},
   "outputs": [],
   "source": [
    "import numpy as np\n",
    "import matplotlib.pyplot as plt\n",
    "from scipy.optimize import least_squares"
   ]
  },
  {
   "cell_type": "markdown",
   "metadata": {},
   "source": [
    "Prompt for the data-file to be read. (for this example to work, type in ''CPtestData.csv''. The file contains two columns of data that are separated with a comma. "
   ]
  },
  {
   "cell_type": "code",
   "execution_count": 2,
   "metadata": {},
   "outputs": [
    {
     "name": "stdout",
     "output_type": "stream",
     "text": [
      "What is the name of the data file: CPtestData.csv\n"
     ]
    }
   ],
   "source": [
    "datafile=input(\"What is the name of the data file: \")\n",
    "f=np.loadtxt(datafile,float,delimiter=',')"
   ]
  },
  {
   "cell_type": "markdown",
   "metadata": {},
   "source": [
    "Getting the data from the file and give some feedback on the data read. "
   ]
  },
  {
   "cell_type": "code",
   "execution_count": 9,
   "metadata": {},
   "outputs": [
    {
     "name": "stdout",
     "output_type": "stream",
     "text": [
      "The data read is: \n",
      " [[ 1.   1.1]\n",
      " [ 2.   3.9]\n",
      " [ 3.   9.3]\n",
      " [ 4.  16.5]]\n",
      "What is the column number for the independent data (x)? 1\n",
      "What is the column number for the dependent data (y)? 2\n",
      "The x-data read is: \n",
      " [1. 2. 3. 4.]\n",
      "The y-data read is: \n",
      " [ 1.1  3.9  9.3 16.5]\n"
     ]
    }
   ],
   "source": [
    "print(\"The data read is: \\n\",f)\n",
    "idvar=int(input(\"What is the column number for the independent data (x)? \"))\n",
    "dvar=int(input(\"What is the column number for the dependent data (y)? \"))\n",
    "xd=f[:,(idvar-1)]\n",
    "yd=f[:,(dvar-1)]\n",
    "print(\"The x-data read is: \\n\",xd)\n",
    "print(\"The y-data read is: \\n\",yd)\n",
    "x_min=np.min(xd)-1.\n",
    "x_max=np.max(xd)+1."
   ]
  },
  {
   "cell_type": "markdown",
   "metadata": {},
   "source": [
    "#### Define the functions for the model to fit on:"
   ]
  },
  {
   "cell_type": "markdown",
   "metadata": {},
   "source": [
    "We need to define two functions, the first one is the function to calculate the function values. The second one is the function to be used by the fitting function."
   ]
  },
  {
   "cell_type": "code",
   "execution_count": 10,
   "metadata": {},
   "outputs": [],
   "source": [
    "def fun(x, A, itau):\n",
    "    return A * np.exp(-itau * x)\n",
    "def fitfun(coef,x,y):\n",
    "    return coef[0] * np.exp(-coef[1] * x) -y"
   ]
  },
  {
   "cell_type": "markdown",
   "metadata": {},
   "source": [
    "set some seed values for the fitting function and start the fit. Use the results to make a table of fitted function values for plotting. "
   ]
  },
  {
   "cell_type": "code",
   "execution_count": 18,
   "metadata": {},
   "outputs": [
    {
     "name": "stdout",
     "output_type": "stream",
     "text": [
      "Fitting coefficients are: \n",
      "A =  1.02 and itau = -0.70\n"
     ]
    }
   ],
   "source": [
    "coef0 = np.ones(2)\n",
    "res_lsq = least_squares(fitfun, coef0, args=(xd, yd))\n",
    "x_test = np.linspace(x_min, x_max, 300)\n",
    "y_fit = fun(x_test, *res_lsq.x)\n",
    "\n",
    "print(f\"Fitting coefficients are: \\nA = {res_lsq.x[0]:5.2f} and itau = {res_lsq.x[1]:5.2f}\")"
   ]
  },
  {
   "cell_type": "code",
   "execution_count": 19,
   "metadata": {},
   "outputs": [
    {
     "data": {
      "image/png": "[encoded data removed]",
      "text/plain": [
       "<Figure size 432x432 with 1 Axes>"
      ]
     },
     "metadata": {
      "needs_background": "light"
     },
     "output_type": "display_data"
    }
   ],
   "source": [
    "plt.figure(figsize=(6,6))\n",
    "plt.plot(xd, yd, 'o', label='measured data')\n",
    "plt.plot(x_test, y_fit, label='fitted data')\n",
    "plt.xlabel('$x$')\n",
    "plt.ylabel('$y$')\n",
    "plt.grid(True)\n",
    "plt.legend()\n",
    "plt.show()"
   ]
  },
  {
   "cell_type": "code",
   "execution_count": null,
   "metadata": {},
   "outputs": [],
   "source": []
  }
 ],
 "metadata": {
  "kernelspec": {
   "display_name": "Python 3",
   "language": "python",
   "name": "python3"
  },
  "language_info": {
   "codemirror_mode": {
    "name": "ipython",
    "version": 3
   },
   "file_extension": ".py",
   "mimetype": "text/x-python",
   "name": "python",
   "nbconvert_exporter": "python",
   "pygments_lexer": "ipython3",
   "version": "3.7.3"
  }
 },
 "nbformat": 4,
 "nbformat_minor": 2
}
