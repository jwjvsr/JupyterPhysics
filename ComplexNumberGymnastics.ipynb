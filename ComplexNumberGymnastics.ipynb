{
 "cells": [
  {
   "cell_type": "markdown",
   "metadata": {},
   "source": [
    "# Working with complex numbers"
   ]
  },
  {
   "cell_type": "markdown",
   "metadata": {},
   "source": [
    "*''Complex Numbers make calculations easy''*"
   ]
  },
  {
   "cell_type": "markdown",
   "metadata": {},
   "source": [
    "##### Initialisation"
   ]
  },
  {
   "cell_type": "code",
   "execution_count": 1,
   "metadata": {},
   "outputs": [],
   "source": [
    "import numpy as np\n",
    "import matplotlib.pyplot as plt\n",
    "import scipy.signal as sig"
   ]
  },
  {
   "cell_type": "markdown",
   "metadata": {},
   "source": [
    "### Purpose of this Notebook"
   ]
  },
  {
   "cell_type": "markdown",
   "metadata": {},
   "source": [
    "This Notebook is meant to train your skills with complex numbers and functions of complex variables.  \n",
    "It is choosen to present the training in this form of a Jupyter Notebook for the purpose of serving a few goals:\n",
    "* Illustrate the advantage of using complex numbers (in Physics).\n",
    "* Give useful examples, that can be used interactively, i.e. you are free to modify the content of the cells, to explore this field and play with the tools. \n",
    "\n",
    "A small drawback of this approach is the fact that it does not force you to do calculations with pen and paper, however the operational skills expected from you in terms of calculation by pen and paper is quite limitted. Most important part is that you understand the use of complex numbers and its impact on the mathematical description of physics. "
   ]
  },
  {
   "cell_type": "markdown",
   "metadata": {},
   "source": [
    "### Complex Numbers"
   ]
  },
  {
   "cell_type": "markdown",
   "metadata": {},
   "source": [
    "Complex numbers arize from the need to express solutions to the equation:\n",
    "$$\n",
    "x^2 = a\n",
    "$$\n",
    "that has only solutions in the domain $\\mathbb{R}$ for positive values of $a$. In order to extend the domain of solutions for negative values of $a$, we have to introduce the complex number domain $\\mathbb{C}$. A simple definition is sufficient to extend the domain: $\\mathbb{R} \\rightarrow \\mathbb{C}$:\n",
    "$$\n",
    "\\mathrm{j}^2 \\equiv -1\n",
    "$$"
   ]
  },
  {
   "cell_type": "markdown",
   "metadata": {},
   "source": [
    "Complex number can be written in two different forms:\n",
    "$$\n",
    "z = x + \\mathrm{j} y = r \\mathrm{e}^{\\mathrm{j}\\phi}\n",
    "$$\n",
    "With the conversion realtions:\n",
    "$$\n",
    "r = \\left|z\\right| \\qquad \\phi = \\angle{z}\n",
    "$$\n",
    "or the other way aroud:\n",
    "$$\n",
    "x = \\Re{(z)} \\qquad y = \\Im{(z)}\n",
    "$$"
   ]
  },
  {
   "cell_type": "markdown",
   "metadata": {},
   "source": [
    "Define two complex numbers $z_1$ adn $z_2$. Be aware of the notation of a complex number in Python."
   ]
  },
  {
   "cell_type": "code",
   "execution_count": 2,
   "metadata": {},
   "outputs": [],
   "source": [
    "z1 = 1+1j\n",
    "z2 = 1-3j"
   ]
  },
  {
   "cell_type": "markdown",
   "metadata": {},
   "source": [
    "The usual calculational operations hold for complex number, e.g. $z^{-1}$."
   ]
  },
  {
   "cell_type": "code",
   "execution_count": 3,
   "metadata": {},
   "outputs": [
    {
     "data": {
      "text/plain": [
       "(0.5-0.5j)"
      ]
     },
     "execution_count": 3,
     "metadata": {},
     "output_type": "execute_result"
    }
   ],
   "source": [
    "1/z1"
   ]
  },
  {
   "cell_type": "markdown",
   "metadata": {},
   "source": [
    "Addition and subtraction:"
   ]
  },
  {
   "cell_type": "code",
   "execution_count": 4,
   "metadata": {},
   "outputs": [
    {
     "data": {
      "text/plain": [
       "((2-2j), 4j)"
      ]
     },
     "execution_count": 4,
     "metadata": {},
     "output_type": "execute_result"
    }
   ],
   "source": [
    "z1+z2, z1-z2"
   ]
  },
  {
   "cell_type": "markdown",
   "metadata": {},
   "source": [
    "Multiplication and devision:"
   ]
  },
  {
   "cell_type": "code",
   "execution_count": 5,
   "metadata": {},
   "outputs": [
    {
     "data": {
      "text/plain": [
       "((4-2j), (-0.2+0.39999999999999997j))"
      ]
     },
     "execution_count": 5,
     "metadata": {},
     "output_type": "execute_result"
    }
   ],
   "source": [
    "z1*z2, z1/z2"
   ]
  },
  {
   "cell_type": "markdown",
   "metadata": {},
   "source": [
    "Examples of some functions related to complex numbers."
   ]
  },
  {
   "cell_type": "markdown",
   "metadata": {},
   "source": [
    "Taking the conjugate of a complex number $z$, also denoted by: $z^*$."
   ]
  },
  {
   "cell_type": "code",
   "execution_count": 6,
   "metadata": {},
   "outputs": [
    {
     "data": {
      "text/plain": [
       "(1-1j)"
      ]
     },
     "execution_count": 6,
     "metadata": {},
     "output_type": "execute_result"
    }
   ],
   "source": [
    "np.conj(z1)"
   ]
  },
  {
   "cell_type": "markdown",
   "metadata": {},
   "source": [
    "Taking the absolute value of a complex number is equivalent with its magnitude $r$. The angle $\\phi$ is given by:\n",
    "$$\n",
    "\\phi = \\arctan \\frac{\\Im{z}}{\\Re{z}}\n",
    "$$\n",
    "These relations can be made clear from a unit circle in the complex plane."
   ]
  },
  {
   "cell_type": "code",
   "execution_count": 7,
   "metadata": {},
   "outputs": [
    {
     "data": {
      "text/plain": [
       "(1.4142135623730951, 0.7853981633974483)"
      ]
     },
     "execution_count": 7,
     "metadata": {},
     "output_type": "execute_result"
    }
   ],
   "source": [
    "np.abs(z1), np.angle(z1)"
   ]
  },
  {
   "cell_type": "markdown",
   "metadata": {},
   "source": [
    "The angle is given in radians, obviously."
   ]
  },
  {
   "cell_type": "markdown",
   "metadata": {},
   "source": [
    "Calculate:"
   ]
  },
  {
   "cell_type": "markdown",
   "metadata": {},
   "source": [
    "$$\n",
    "z z^*\n",
    "$$"
   ]
  },
  {
   "cell_type": "code",
   "execution_count": 8,
   "metadata": {},
   "outputs": [
    {
     "data": {
      "text/plain": [
       "(2+0j)"
      ]
     },
     "execution_count": 8,
     "metadata": {},
     "output_type": "execute_result"
    }
   ],
   "source": [
    "z1*np.conj(z1)"
   ]
  },
  {
   "cell_type": "markdown",
   "metadata": {},
   "source": [
    "Note that a product of a complex number with its complex-conjugate results in a Real number that is equal to its magnitude squared: $z z^* = r^2$. "
   ]
  },
  {
   "cell_type": "markdown",
   "metadata": {},
   "source": [
    "Calculate the real and imaginary part of a complex number:"
   ]
  },
  {
   "cell_type": "code",
   "execution_count": 9,
   "metadata": {},
   "outputs": [
    {
     "data": {
      "text/plain": [
       "(1.0, -3.0)"
      ]
     },
     "execution_count": 9,
     "metadata": {},
     "output_type": "execute_result"
    }
   ],
   "source": [
    "np.real(z2), np.imag(z2)"
   ]
  },
  {
   "cell_type": "markdown",
   "metadata": {},
   "source": [
    "In Python, the number itself has the methods real and imag:"
   ]
  },
  {
   "cell_type": "code",
   "execution_count": 10,
   "metadata": {},
   "outputs": [
    {
     "data": {
      "text/plain": [
       "(1.0, -3.0)"
      ]
     },
     "execution_count": 10,
     "metadata": {},
     "output_type": "execute_result"
    }
   ],
   "source": [
    "z2.real, z2.imag"
   ]
  },
  {
   "cell_type": "markdown",
   "metadata": {},
   "source": [
    "#### Problems - Complex Numbers"
   ]
  },
  {
   "cell_type": "markdown",
   "metadata": {},
   "source": [
    "Make the following problems. Not all problems can be made in this Notebook."
   ]
  },
  {
   "cell_type": "markdown",
   "metadata": {},
   "source": [
    "1. Write the following complex numbers in their polar notation: $r \\mathrm{e}^{\\mathrm{j}\\phi}$.\n",
    "  - $1+\\mathrm{j}$\n",
    "  - $1-\\mathrm{j}\\sqrt{3}$\n",
    "  - $1/(1+\\mathrm{j})$\n",
    "  - $(1+\\mathrm{j})^2$  \n",
    "  \n",
    "2. For the number given in problem 1, calculate the complex conjugate in the form: $x + \\mathrm{j} y$.  \n",
    "\n",
    "3. Determine the complex conjugates of the given numbers and show that the product $z z^*$ is real.\n",
    "  - $2+ \\mathrm{j} 3$\n",
    "  - $1/(1-\\mathrm{j})$\n",
    "  - $(-1+\\mathrm{j}) e^{-\\mathrm{j}\\frac{3 \\pi}{4}}$"
   ]
  },
  {
   "cell_type": "markdown",
   "metadata": {},
   "source": [
    "### Representation of Complex Numbers in the Complexe plane"
   ]
  },
  {
   "cell_type": "markdown",
   "metadata": {},
   "source": [
    "#### Plotting complex numbers in the complex plane"
   ]
  },
  {
   "cell_type": "markdown",
   "metadata": {},
   "source": [
    "Define four complex numbers derived from a single complex number $z$.\n",
    "$$\n",
    "[ z, z^*, \\frac{1}{z}, \\frac{1}{z^*} ]\n",
    "$$"
   ]
  },
  {
   "cell_type": "code",
   "execution_count": 11,
   "metadata": {},
   "outputs": [],
   "source": [
    "z4 = 1+1j*np.sqrt(3)\n",
    "a4 = np.array([z4,1/z4,np.conj(z4),np.conj(1/z4)])"
   ]
  },
  {
   "cell_type": "markdown",
   "metadata": {},
   "source": [
    "Plot the four numbers in the complex plane, that contains a unit-circle for guidance."
   ]
  },
  {
   "cell_type": "code",
   "execution_count": 12,
   "metadata": {},
   "outputs": [
    {
     "data": {
      "image/png": "[encoded data removed]",
      "text/plain": [
       "<Figure size 576x576 with 1 Axes>"
      ]
     },
     "metadata": {
      "needs_background": "light"
     },
     "output_type": "display_data"
    }
   ],
   "source": [
    "# plot unit circle and the data\n",
    "t = np.linspace(0,2*np.pi,101)\n",
    "plt.figure(figsize=(8,8))\n",
    "plt.plot(np.cos(t),np.sin(t))\n",
    "plt.plot(a4.real, a4.imag,'ro')\n",
    "\n",
    "# define the axes limits\n",
    "m = max(max(np.abs(a4.real)),max(np.abs(a4.imag)))\n",
    "plt.xlim(-1.1*m,1.1*m),plt.ylim(-1.1*m,1.1*m)\n",
    "\n",
    "#draw horizontal and vertical axes\n",
    "plt.plot([0,0],[-1.1*m,1.1*m],'k',linewidth=0.5)\n",
    "plt.plot([-1.1*m,1.1*m],[0,0],'k',linewidth=0.5)\n",
    "plt.grid(True)\n",
    "\n",
    "#annotate plot with labels\n",
    "plt.annotate(r'$z$',xy=(z4.real+0.1, z4.imag),fontsize=15)\n",
    "plt.annotate(r'$\\frac{1}{z}$',xy=((1/z4).real+0.1, (1/z4).imag),fontsize=15)\n",
    "plt.annotate(r'$z^*$',xy=(np.conj(z4).real+0.1, np.conj(z4).imag),fontsize=15)\n",
    "plt.annotate(r'$\\frac{1}{z^*}$',xy=(np.conj(1/z4).real+0.1, np.conj(1/z4).imag),fontsize=15)\n",
    "\n",
    "plt.show()"
   ]
  },
  {
   "cell_type": "markdown",
   "metadata": {},
   "source": [
    "Here we plot separate complex numbers, however you can also plot a complex valued function in the complex plane, as long as the functions depends on a single Real-values variable. The result is equivalent to a parametric plot."
   ]
  },
  {
   "cell_type": "markdown",
   "metadata": {},
   "source": [
    "#### Problems"
   ]
  },
  {
   "cell_type": "markdown",
   "metadata": {},
   "source": [
    "4. Plot the complexnumbers given in problem 1 in the complex plane.  \n",
    "5. For the complex numbers given in problem 3, plot both the complex number and its conjugate in the complex plane."
   ]
  },
  {
   "cell_type": "markdown",
   "metadata": {},
   "source": [
    "### Functions of complex numbers"
   ]
  },
  {
   "cell_type": "markdown",
   "metadata": {},
   "source": [
    "#### Euler's formula"
   ]
  },
  {
   "cell_type": "markdown",
   "metadata": {},
   "source": [
    "Functions as the inverse of a number return a complex number in general. This holds also for exponentials, so in general, functions can be complex valued. Let us look at a few examples."
   ]
  },
  {
   "cell_type": "code",
   "execution_count": 13,
   "metadata": {},
   "outputs": [
    {
     "data": {
      "text/plain": [
       "(1.4686939399158851+2.2873552871788423j)"
      ]
     },
     "execution_count": 13,
     "metadata": {},
     "output_type": "execute_result"
    }
   ],
   "source": [
    "z3=np.exp(z1)\n",
    "z3"
   ]
  },
  {
   "cell_type": "markdown",
   "metadata": {},
   "source": [
    "This can be checked by applying Euler's formula:\n",
    "$$\n",
    "\\mathrm{e}^{x} = \\cosh(x) + \\sinh(x)\n",
    "$$\n",
    "and\n",
    "$$\n",
    "\\mathrm{e}^{\\mathrm{j}y} = \\cos(y) + \\mathrm{j} \\sin(y)\n",
    "$$\n",
    "For a complex argument this yields:\n",
    "$$\n",
    "\\mathrm{e}^{a + \\mathrm{j} b} = \\mathrm{e}^a (\\cos(b) + \\mathrm{j} \\sin(b))\n",
    "$$"
   ]
  },
  {
   "cell_type": "code",
   "execution_count": 14,
   "metadata": {},
   "outputs": [
    {
     "data": {
      "text/plain": [
       "(1.4686939399158851+2.2873552871788423j)"
      ]
     },
     "execution_count": 14,
     "metadata": {},
     "output_type": "execute_result"
    }
   ],
   "source": [
    "z3b = np.exp(z1.real)*(np.cos(z1.imag)+ (0+1j)*np.sin(z1.imag))\n",
    "z3b"
   ]
  },
  {
   "cell_type": "markdown",
   "metadata": {},
   "source": [
    "#### Problems"
   ]
  },
  {
   "cell_type": "markdown",
   "metadata": {},
   "source": [
    "6. Use Euler's formula to write $(-1+\\mathrm{j}) e^{-\\mathrm{j}\\frac{3 \\pi}{4}}$ in the form: $a + \\mathrm{j} b$.\n",
    "7. Unit circle:\n",
    "   - For $\\alpha$ is a solution of $z^n = 1$ for $n \\in \\mathbb{Z}$, then $\\left|\\alpha\\right| = 1$ or the solutions are all on the unit circle.  \n",
    "   - Show that $1$, $\\left(\\cos \\frac{2 \\pi}{3} + \\mathrm{j} \\sin \\frac{2 \\pi}{3}\\right)$ and $\\left(\\cos \\frac{4 \\pi}{3} + \\mathrm{j} \\sin \\frac{4 \\pi}{3}\\right)$ are solutions of the equation: $z^3 = 1$. \n",
    "   - Plot the complex number sets given by: $\\left\\{z \\in \\mathbb{C} | z^n = 1\\right\\}$ in the comples plane for $n = 3, 4, 6 \\textrm{ and } 8$."
   ]
  },
  {
   "cell_type": "markdown",
   "metadata": {},
   "source": [
    "#### Polynomials and complex numbers"
   ]
  },
  {
   "cell_type": "markdown",
   "metadata": {},
   "source": [
    "In order to kill two birds with one stone, we do not use polynomials for the *numpy* library, but instead we directly use functions from the *scipy.signal* library (The import of the library was already done at the beginning of this document). The *scipy.signal*-library is also used for other functions. On the fly a few ''tricks'' are included in the examples, that keep you sharp. "
   ]
  },
  {
   "cell_type": "markdown",
   "metadata": {},
   "source": [
    "$b$ below is our polynomial coefficients.  In this case, $b(x) = x^2 + 3x+2$."
   ]
  },
  {
   "cell_type": "code",
   "execution_count": 15,
   "metadata": {},
   "outputs": [],
   "source": [
    "b = np.array([1,3,2])"
   ]
  },
  {
   "cell_type": "markdown",
   "metadata": {},
   "source": [
    "Square the polynomial to obtain a second polynomial of $4^{th}$ order. Note that since we only use the coefficients of the polynomial, it is most easy to calculate the square of the polynomial by taking the convolution with itself (''nice trick!'')."
   ]
  },
  {
   "cell_type": "code",
   "execution_count": 16,
   "metadata": {},
   "outputs": [
    {
     "data": {
      "text/plain": [
       "array([ 1,  6, 13, 12,  4])"
      ]
     },
     "execution_count": 16,
     "metadata": {},
     "output_type": "execute_result"
    }
   ],
   "source": [
    "b2=sig.convolve(b,b)\n",
    "b2"
   ]
  },
  {
   "cell_type": "markdown",
   "metadata": {},
   "source": [
    "Now we have defined two polynomials by their coefficients, we need some means to work with these coeffficients as polynomials.  \n",
    "Here we have choosen to use the tools that are also used in the desciption of transfer functions. Remember that we could define a tansfer function by de ratio of two polynomials. Tools are available to define the transfer function in two different forms: the ratio of two polynomials defined by their coefficients, and the ration of two factorized polynomials.  \n",
    "He we will use the second form, since it gives us the zeros and poles. (Note that the zeros and poles appear directly in the argument of the exponential function as a solution to the response of the system.)  \n",
    "(*In contrast to what we have done before, we here only use the numerator polynomial, for case of simplicity. So we will calculate zeros and no poles.*)"
   ]
  },
  {
   "cell_type": "code",
   "execution_count": 17,
   "metadata": {},
   "outputs": [
    {
     "data": {
      "text/plain": [
       "(array([-2., -1.]), array([], dtype=float64), 1.0)"
      ]
     },
     "execution_count": 17,
     "metadata": {},
     "output_type": "execute_result"
    }
   ],
   "source": [
    "a = [1]  # set the denominator polynomial to a single constant equal to 1.\n",
    "z, p, k = sig.tf2zpk(b,a)\n",
    "z, p, k"
   ]
  },
  {
   "cell_type": "markdown",
   "metadata": {},
   "source": [
    "So the solutions to the polynomial are -2 and -1. (here these are the zeros as already anounced). "
   ]
  },
  {
   "cell_type": "code",
   "execution_count": 18,
   "metadata": {},
   "outputs": [
    {
     "data": {
      "text/plain": [
       "(array([-2.00000002, -1.99999998, -1.00000005, -0.99999995]),\n",
       " array([], dtype=float64),\n",
       " 1.0)"
      ]
     },
     "execution_count": 18,
     "metadata": {},
     "output_type": "execute_result"
    }
   ],
   "source": [
    "z2, p2, k2 = sig.tf2zpk(b2,a)\n",
    "z2, p2, k2"
   ]
  },
  {
   "cell_type": "markdown",
   "metadata": {},
   "source": [
    "We can invert the process, i.e. calculating the polynomial coefficients from the zeros. Let us do this for the zeros of the second polynomial:"
   ]
  },
  {
   "cell_type": "code",
   "execution_count": 19,
   "metadata": {},
   "outputs": [
    {
     "data": {
      "text/plain": [
       "(array([ 1.,  6., 13., 12.,  4.]), array([1.]))"
      ]
     },
     "execution_count": 19,
     "metadata": {},
     "output_type": "execute_result"
    }
   ],
   "source": [
    "ap2, bp2 = sig.zpk2tf(z2,p2,k2)\n",
    "ap2, bp2"
   ]
  },
  {
   "cell_type": "markdown",
   "metadata": {},
   "source": [
    "And indeed we get the coefficients $b2$ back."
   ]
  },
  {
   "cell_type": "markdown",
   "metadata": {},
   "source": [
    "Now for a polynomial with complex solutions:\n"
   ]
  },
  {
   "cell_type": "code",
   "execution_count": 20,
   "metadata": {},
   "outputs": [
    {
     "data": {
      "text/plain": [
       "(array([-0.+1.j,  0.-1.j]), array([], dtype=float64), 1.0)"
      ]
     },
     "execution_count": 20,
     "metadata": {},
     "output_type": "execute_result"
    }
   ],
   "source": [
    "b = np.array([1,0,1])\n",
    "z,p,k = sig.tf2zpk(b,a)\n",
    "z,p,k"
   ]
  },
  {
   "cell_type": "markdown",
   "metadata": {},
   "source": [
    "Without proof, we state here that the roots of a polynomial with real-values coefficients come in conjugate pairs, unless they a real.  \n",
    "A consequence of this is that an odd polynomial has at least one real root. "
   ]
  },
  {
   "cell_type": "markdown",
   "metadata": {},
   "source": [
    "And back again to obtain the coefficients:"
   ]
  },
  {
   "cell_type": "code",
   "execution_count": 21,
   "metadata": {},
   "outputs": [
    {
     "data": {
      "text/plain": [
       "(array([1., 0., 1.]), array([1.]))"
      ]
     },
     "execution_count": 21,
     "metadata": {},
     "output_type": "execute_result"
    }
   ],
   "source": [
    "sig.zpk2tf(z,p,k)"
   ]
  },
  {
   "cell_type": "markdown",
   "metadata": {},
   "source": [
    "#### Problems"
   ]
  },
  {
   "cell_type": "markdown",
   "metadata": {},
   "source": [
    "8. Find all roots of the following polynomials:\n",
    "   - $2 z^2 + 3 z + 4$\n",
    "   - $z^2 = -1$\n",
    "   - $z^3 + 3 z^2 + 3 z + 1$\n",
    "9. Consider the polynomial: $z^2 + 2 \\zeta \\omega_n z + \\omega_n^2$.  \n",
    "   a. Find the roots of this polynomial with $\\zeta$ as parameter. For convenience take $\\omega_n = 1$.  \n",
    "   b. Plot the roots in the complex plane for $\\zeta = 0.2,\\; 0.5,\\; 0.7,\\; 1.0,\\;1.5 \\textrm{ and } 7$ "
   ]
  },
  {
   "cell_type": "markdown",
   "metadata": {},
   "source": [
    "#### Exponential functions"
   ]
  },
  {
   "cell_type": "markdown",
   "metadata": {},
   "source": [
    "Exponential functions are important in the description of physics, not only for real valued functions, but even more for complex valued functions. Think of the description of harmonic signals and the Laplace and Fourier Transforms. "
   ]
  },
  {
   "cell_type": "markdown",
   "metadata": {},
   "source": [
    "The exponential function $f(z) = c e^{a z}$ is strongly related to the nature of complex numbers."
   ]
  },
  {
   "cell_type": "markdown",
   "metadata": {},
   "source": [
    "A differentiable function with the characteristic: $f(z_1 + z_2) = f(z_1) f(z_2)$ $\\forall z_1,z_2 \\in \\mathbb{C}$ and $f(z) \\neq 0$ $ \\forall z \\in \\mathbb{C}$ is an exponetial function."
   ]
  },
  {
   "cell_type": "markdown",
   "metadata": {},
   "source": [
    "## Applications to Signals and Models"
   ]
  },
  {
   "cell_type": "markdown",
   "metadata": {},
   "source": [
    "##### Problems"
   ]
  },
  {
   "cell_type": "markdown",
   "metadata": {},
   "source": [
    "10. Calculate the limits presented below:  \n",
    "    a. Value of:\n",
    "    $$\n",
    "    \\lim_{\\omega \\to \\infty} \\frac{e^{\\mathrm{j} \\pi 5/2}}{\\mathrm{j} \\arctan \\omega}\n",
    "    $$\n",
    "    b. Gain and Phase of:\n",
    "    $$\n",
    "    \\lim_{\\omega \\to \\infty} \\frac{e^{\\mathrm{j} \\pi/2}}{3 + \\mathrm{j} \\omega} \\frac{1}{1 + \\omega^2}\n",
    "    $$  \n",
    "11. For the functions given above, plot the absolute value of the function and its phase as a function of $\\omega$.\n",
    "12. Given the transfer function of a system:\n",
    "$$\n",
    "T(s) = \\frac{1}{s^2 + 2 s + 1}\n",
    "$$\n",
    "and the input function:\n",
    "$$\n",
    "x(t) = A \\cos \\omega t\n",
    "$$\n",
    "What is the output for $\\omega = 1$. Verify your answer with a plot of the output function and the input function in one graph."
   ]
  },
  {
   "cell_type": "code",
   "execution_count": null,
   "metadata": {},
   "outputs": [],
   "source": []
  }
 ],
 "metadata": {
  "kernelspec": {
   "display_name": "Python 3",
   "language": "python",
   "name": "python3"
  },
  "language_info": {
   "codemirror_mode": {
    "name": "ipython",
    "version": 3
   },
   "file_extension": ".py",
   "mimetype": "text/x-python",
   "name": "python",
   "nbconvert_exporter": "python",
   "pygments_lexer": "ipython3",
   "version": "3.7.7"
  }
 },
 "nbformat": 4,
 "nbformat_minor": 4
}
