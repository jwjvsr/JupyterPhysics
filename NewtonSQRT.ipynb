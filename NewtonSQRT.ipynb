{
 "cells": [
  {
   "cell_type": "markdown",
   "id": "ec1065af-fe6d-4437-b734-b8a95921918c",
   "metadata": {},
   "source": [
    "# Newton for calculating square root"
   ]
  },
  {
   "cell_type": "markdown",
   "id": "dd907237-e387-4f09-8be1-bfa492477bfa",
   "metadata": {
    "tags": []
   },
   "source": [
    "Square root: $\\sqrt{y} = x$\n",
    "\n",
    "$y=x^2 \\quad \\Rightarrow \\quad x^2-y=0$\n",
    "\n",
    "Newton: $x_{k+1} = x_k - \\frac{f(x_k)}{f'(x_k)}$\n",
    "\n",
    "$f(x_k) = x_k^2 - y \\quad \\Rightarrow \\quad f'(x_k) = 2 x_k$ \n",
    "\n",
    "$x_{k+1} = x_k -\\frac{x_k^2}{2 x_k} = \\frac{1}{2}\\left(x_k+\\frac{y}{x_k}\\right)$"
   ]
  },
  {
   "cell_type": "markdown",
   "id": "58a434ae-bf1c-43b3-9aaf-70b789ec3df3",
   "metadata": {},
   "source": [
    "Code this in a function:"
   ]
  },
  {
   "cell_type": "code",
   "execution_count": 1,
   "id": "0d5e33d2-a256-4368-83a3-bb5a48caed71",
   "metadata": {},
   "outputs": [],
   "source": [
    "import numpy as np"
   ]
  },
  {
   "cell_type": "code",
   "execution_count": 2,
   "id": "44753ddd-1096-49aa-97f5-04d1e65b1f51",
   "metadata": {},
   "outputs": [],
   "source": [
    "iter = 5;\n",
    "\n",
    "def sqrtNewton(y):\n",
    "    x= 0.5*y\n",
    "    for i in range(iter):\n",
    "        x=0.5*(x+y/x)\n",
    "    return x"
   ]
  },
  {
   "cell_type": "markdown",
   "id": "adfa1d43-137b-44ad-8c46-4fa4226785b2",
   "metadata": {},
   "source": [
    "Example: calculate the square root of arg:"
   ]
  },
  {
   "cell_type": "code",
   "execution_count": 3,
   "id": "fcf9967a-fe5d-482e-8053-b2f0148e0604",
   "metadata": {},
   "outputs": [
    {
     "name": "stdout",
     "output_type": "stream",
     "text": [
      "The square root of 3.141592653589793 is 1.7724538509055159.\n"
     ]
    }
   ],
   "source": [
    "arg = np.pi\n",
    "srna = sqrtNewton(arg)\n",
    "print(f'The square root of {arg} is {srna}.')"
   ]
  },
  {
   "cell_type": "markdown",
   "id": "846615d0-c182-454a-b24c-1038a82419a4",
   "metadata": {},
   "source": [
    "Determine the relative error for this calculation."
   ]
  },
  {
   "cell_type": "code",
   "execution_count": 4,
   "id": "981ac255-da13-4d88-8cdc-58b752ff03a6",
   "metadata": {},
   "outputs": [],
   "source": [
    "error=(sqrtNewton(arg)-np.sqrt(arg))/np.sqrt(arg)"
   ]
  },
  {
   "cell_type": "code",
   "execution_count": 5,
   "id": "3d520cef-f4e6-4946-95ca-d405bbba961b",
   "metadata": {},
   "outputs": [
    {
     "name": "stdout",
     "output_type": "stream",
     "text": [
      "The error is 0.0, (relative)\n"
     ]
    }
   ],
   "source": [
    "print(f'The error is {error}, (relative)')"
   ]
  }
 ],
 "metadata": {
  "kernelspec": {
   "display_name": "Python 3 (ipykernel)",
   "language": "python",
   "name": "python3"
  },
  "language_info": {
   "codemirror_mode": {
    "name": "ipython",
    "version": 3
   },
   "file_extension": ".py",
   "mimetype": "text/x-python",
   "name": "python",
   "nbconvert_exporter": "python",
   "pygments_lexer": "ipython3",
   "version": "3.8.12"
  }
 },
 "nbformat": 4,
 "nbformat_minor": 5
}
