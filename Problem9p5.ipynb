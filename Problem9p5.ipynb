{
 "cells": [
  {
   "cell_type": "markdown",
   "metadata": {},
   "source": [
    "# Problem 9.5"
   ]
  },
  {
   "cell_type": "markdown",
   "metadata": {},
   "source": [
    "##### Initialisation"
   ]
  },
  {
   "cell_type": "code",
   "execution_count": 1,
   "metadata": {},
   "outputs": [],
   "source": [
    "from scipy import signal\n",
    "from scipy import linalg\n",
    "import matplotlib.pyplot as plt\n",
    "import numpy as np"
   ]
  },
  {
   "cell_type": "markdown",
   "metadata": {},
   "source": [
    "##### Parameters for the problem"
   ]
  },
  {
   "cell_type": "code",
   "execution_count": 2,
   "metadata": {},
   "outputs": [],
   "source": [
    "c1 = 0.1 * 10**-6   # Farad\n",
    "c2 = 0.1 * 10**-6   # Farad\n",
    "l1 = 2.0 * 10**-6   # Henry\n",
    "r1 = 0.5            # Ohm\n",
    "r2 = 1.0            # Ohm"
   ]
  },
  {
   "cell_type": "markdown",
   "metadata": {},
   "source": [
    "#### The State-space model"
   ]
  },
  {
   "cell_type": "markdown",
   "metadata": {},
   "source": [
    "The matrisces are given by:\n",
    "$$\n",
    "\\mathbb{A} = \\left(\n",
    "\\begin{matrix}\n",
    "0 & \\frac{1}{C_1} & 0 \\\\\n",
    "-\\frac{1}{L} & -\\frac{R_1}{L} & -\\frac{1}{L} \\\\\n",
    "0 & \\frac{1}{C_2} & -\\frac{1}{R_2 C_2}\n",
    "\\end{matrix}\n",
    "\\right),\n",
    "\\;\n",
    "B = \\left(\n",
    "\\begin{matrix}\n",
    "0 \\\\ \\frac{1}{L} \\\\ 0\n",
    "\\end{matrix}\n",
    "\\right),\n",
    "\\;\n",
    "C = \\left(\n",
    "\\begin{matrix}\n",
    "0 & 0 & 1 \\\\\n",
    "0 & 1 & 0 \n",
    "\\end{matrix}\n",
    "\\right),\n",
    "\\;\n",
    "D = \\left(\n",
    "\\begin{matrix}\n",
    "0 \\\\ 0\n",
    "\\end{matrix}\n",
    "\\right).\n",
    "$$"
   ]
  },
  {
   "cell_type": "code",
   "execution_count": 3,
   "metadata": {},
   "outputs": [
    {
     "name": "stdout",
     "output_type": "stream",
     "text": [
      "System 5 in State-Space is:  StateSpaceContinuous(\n",
      "array([[        0.,  10000000.,         0.],\n",
      "       [  -500000.,   -250000.,   -500000.],\n",
      "       [        0.,  10000000., -10000000.]]),\n",
      "array([[     0.],\n",
      "       [500000.],\n",
      "       [     0.]]),\n",
      "array([[0, 1, 0],\n",
      "       [0, 0, 1]]),\n",
      "array([[0],\n",
      "       [0]]),\n",
      "dt: None\n",
      ")\n"
     ]
    }
   ],
   "source": [
    "aa = np.array([[0, 1/c1, 0],[-1/l1, -r1/l1, -1/l1],[0, 1/c2, -1/(r2*c2)]])\n",
    "bb = np.array([[0],[1/l1],[0]])\n",
    "cc = np.array([[0, 1, 0],[0,0,1]])\n",
    "dd = np.array([[0],[0]])\n",
    "sys5 = signal.StateSpace(aa, bb, cc, dd)\n",
    "print(\"System 5 in State-Space is: \",sys5)"
   ]
  },
  {
   "cell_type": "markdown",
   "metadata": {},
   "source": [
    "##### Determine the dynamic behaviour of the system by calculating the eiven values of the A-Matrix."
   ]
  },
  {
   "cell_type": "code",
   "execution_count": 4,
   "metadata": {},
   "outputs": [
    {
     "name": "stdout",
     "output_type": "stream",
     "text": [
      "The eigenvalues of the A-matrix are:  [ -381017.75044638+2263771.12233432j  -381017.75044638-2263771.12233432j\n",
      " -9487964.49910723      +0.j        ]\n"
     ]
    }
   ],
   "source": [
    "eig5 = linalg.eigvals(aa)\n",
    "print('The eigenvalues of the A-matrix are: ',eig5)"
   ]
  },
  {
   "cell_type": "markdown",
   "metadata": {},
   "source": [
    "##### Determine the Transfer Function and the ZerosPolesGain representation of the model."
   ]
  },
  {
   "cell_type": "markdown",
   "metadata": {},
   "source": [
    "A remark has te be made here. A tranformation of a State-space model to a transfer function model, results in an array of numerator polynomial coefficients (for all input-output combination one) and one array with the denominator polynomial coefficients. The implemtation for the calculation of poles, zeros and a ZerosPolesGain representation of the state-space model does not work correctly. Therefor, the tranfer function object is pulled appart in separate transferfunction models, reconstructed from the array's. "
   ]
  },
  {
   "cell_type": "code",
   "execution_count": 5,
   "metadata": {},
   "outputs": [
    {
     "name": "stdout",
     "output_type": "stream",
     "text": [
      "The transfer functions are:  TransferFunctionContinuous(\n",
      "array([[5.00000000e+05, 5.00000000e+12, 4.09600000e+04],\n",
      "       [1.86264515e-09, 5.00000000e+12, 2.45760000e+04]]),\n",
      "array([1.000e+00, 1.025e+07, 1.250e+13, 5.000e+19]),\n",
      "dt: None\n",
      ")\n",
      "The first transferfunction is:  TransferFunctionContinuous(\n",
      "array([5.000e+05, 5.000e+12, 4.096e+04]),\n",
      "array([1.000e+00, 1.025e+07, 1.250e+13, 5.000e+19]),\n",
      "dt: None\n",
      ")\n",
      "The ZerosPolesGain model of the first input is:  ZerosPolesGainContinuous(\n",
      "array([-1.000e+07, -8.192e-09]),\n",
      "array([-9487964.49910722      +0.j        ,\n",
      "        -381017.75044638+2263771.12233432j,\n",
      "        -381017.75044638-2263771.12233432j]),\n",
      "500000.00000000186,\n",
      "dt: None\n",
      ")\n",
      "The second transferfunction is:  TransferFunctionContinuous(\n",
      "array([1.86264515e-09, 5.00000000e+12, 2.45760000e+04]),\n",
      "array([1.000e+00, 1.025e+07, 1.250e+13, 5.000e+19]),\n",
      "dt: None\n",
      ")\n",
      "The ZerosPolesGain model is:  ZerosPolesGainContinuous(\n",
      "array([-1.000e+07, -8.192e-09]),\n",
      "array([-9487964.49910722      +0.j        ,\n",
      "        -381017.75044638+2263771.12233432j,\n",
      "        -381017.75044638-2263771.12233432j]),\n",
      "500000.00000000186,\n",
      "dt: None\n",
      ")\n",
      "The zeros of the sytem are:  [-1.000e+07 -8.192e-09]\n",
      "The poles of the sytem are:  [-9487964.49910722      +0.j          -381017.75044638+2263771.12233432j\n",
      "  -381017.75044638-2263771.12233432j]\n"
     ]
    },
    {
     "name": "stderr",
     "output_type": "stream",
     "text": [
      "C:\\ProgramData\\Anaconda3\\lib\\site-packages\\scipy\\signal\\filter_design.py:1619: BadCoefficients: Badly conditioned filter coefficients (numerator): the results may be meaningless\n",
      "  \"results may be meaningless\", BadCoefficients)\n"
     ]
    }
   ],
   "source": [
    "tf5 = sys5.to_tf()\n",
    "print('The transfer functions are: ',tf5)\n",
    "tf5a=signal.TransferFunction(tf5.num[0],tf5.den)\n",
    "print('The first transferfunction is: ',tf5a)\n",
    "zpk5a = tf5a.to_zpk()\n",
    "print('The ZerosPolesGain model of the first input is: ', zpk5a)\n",
    "tf5b=signal.TransferFunction(tf5.num[1],tf5.den)\n",
    "print('The second transferfunction is: ',tf5b)\n",
    "zpk5b = tf5a.to_zpk()\n",
    "print('The ZerosPolesGain model is: ', zpk5b)\n",
    "#print(type(sys5))\n",
    "zeros5 = tf5a.zeros\n",
    "print('The zeros of the sytem are: ',zeros5)\n",
    "poles5 = tf5a.poles\n",
    "print('The poles of the sytem are: ',poles5)"
   ]
  },
  {
   "cell_type": "markdown",
   "metadata": {},
   "source": [
    "##### Time-response to a unit step function"
   ]
  },
  {
   "cell_type": "markdown",
   "metadata": {},
   "source": [
    "For an imput of a unit step function from 1 V to 2 V, we have to set the initial conditions for the state-space variables, and adjust the step: 2 V step. "
   ]
  },
  {
   "cell_type": "code",
   "execution_count": 6,
   "metadata": {},
   "outputs": [
    {
     "data": {
      "image/png": "[encoded data removed]",
      "text/plain": [
       "<Figure size 720x468 with 1 Axes>"
      ]
     },
     "metadata": {
      "needs_background": "light"
     },
     "output_type": "display_data"
    }
   ],
   "source": [
    "t5 = np.linspace(0, 2*10**-5, num=400)\n",
    "u5 = 2*np.ones_like(t5)\n",
    "init = [1, 0, 0]\n",
    "tout5, y5, x5 = signal.lsim(sys5, u5, t5, X0=init)\n",
    "plt.figure(figsize=(10,6.5))\n",
    "plt.plot(t5, y5,label='step-response')\n",
    "plt.xlabel (r'$t$')\n",
    "plt.ylabel (r'$y(t)$')\n",
    "plt.title('Step-response')\n",
    "plt.grid(True)\n",
    "plt.show()"
   ]
  },
  {
   "cell_type": "markdown",
   "metadata": {},
   "source": [
    "There is a small phase lag of the output voltage with respect to the current. Note that ouptut voltage and current both start at zero an are also zero for the time to infinity. "
   ]
  },
  {
   "cell_type": "code",
   "execution_count": null,
   "metadata": {},
   "outputs": [],
   "source": []
  }
 ],
 "metadata": {
  "kernelspec": {
   "display_name": "Python 3",
   "language": "python",
   "name": "python3"
  },
  "language_info": {
   "codemirror_mode": {
    "name": "ipython",
    "version": 3
   },
   "file_extension": ".py",
   "mimetype": "text/x-python",
   "name": "python",
   "nbconvert_exporter": "python",
   "pygments_lexer": "ipython3",
   "version": "3.7.3"
  }
 },
 "nbformat": 4,
 "nbformat_minor": 2
}
